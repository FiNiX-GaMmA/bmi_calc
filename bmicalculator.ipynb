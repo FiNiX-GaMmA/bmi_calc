{
 "cells": [
  {
   "cell_type": "markdown",
   "id": "213afb23",
   "metadata": {},
   "source": [
    "# Child Nutrient Calculator\n",
    "\n",
    "- project given by UPGRAD\n",
    "- author  :-  Aryaroop Majumder\n",
    "\n",
    "## Features\n",
    "\n",
    "- First part contains the Nutrition Calculator\n",
    "- Second part contains the BMI calculator\n",
    "\n",
    "## The normal calories one should take in the following age groups:- \n",
    "\n",
    ">  The following age groups are:-- \n",
    "\n",
    ">     Age b/w 0-2 years: 800 calories\n",
    ">     Age b/w 2-4 years: 1400 calories\n",
    ">     Age b/w 4-8 years: 1800 calories\n",
    "\n",
    " \n",
    "\n",
    "\n",
    "## How the calculation of BMI are done\n",
    "\n",
    "\n",
    "| BMI | BMI categories |\n",
    "| ------ | ------ |\n",
    "| <16 | Severely Underweight |\n",
    "| >=16 and <=18.5 | Underweight |\n",
    "| >=18.5 and <25 | Healthy |\n",
    "| >=25 and <30 | Overweight |\n",
    "| >30 | Severely Overweight |\n",
    "\n",
    "\n"
   ]
  },
  {
   "cell_type": "code",
   "execution_count": 1,
   "id": "f842bb35",
   "metadata": {
    "scrolled": true
   },
   "outputs": [
    {
     "name": "stdout",
     "output_type": "stream",
     "text": [
      "What's your name? Arya\n",
      "How old are you? 6\n",
      "What's your gender M\n",
      "What's your height 40\n",
      "What's your weight 44.4\n",
      "Age b/w 0-2 years: 800 calories\n",
      "Age b/w 2-4 years: 1400 calories\n",
      "Age b/w 4-8 years: 1800 calories\n",
      "How much did the child drink milk? (in grams) 300\n",
      "How much did the child eat eggs? (in grams) 300\n",
      "How much did the child eat rice? (in grams) 300\n",
      "How much did the child eat lentils? (in grams) 300\n",
      "How much did the child eat vegetables? (in grams) 300\n",
      "How much did the child eat meat? (in grams) 300\n",
      "The daily calorie consumption of Arya is 2178.0 and Arya is not undernourished.\n",
      "The BMI of Arya is 19.51 and Arya is normal.\n"
     ]
    }
   ],
   "source": [
    "name = input(\"What's your name? \")\n",
    "age = int(input(\"How old are you? \"))\n",
    "gender = input(\"What's your gender \")\n",
    "height = float(input(\"What's your height \"))\n",
    "weight = float(input(\"What's your weight \"))\n",
    "print(\"Age b/w 0-2 years: 800 calories\")\n",
    "print(\"Age b/w 2-4 years: 1400 calories\")\n",
    "print(\"Age b/w 4-8 years: 1800 calories\")\n",
    "milk = input(\"How much did the child drink milk? (in grams) \")\n",
    "milk_calories = float(milk) * 1\n",
    "egg = input(\"How much did the child eat eggs? (in grams) \")\n",
    "egg_calories = float(egg) * 1.55\n",
    "rice = input(\"How much did the child eat rice? (in grams) \")\n",
    "rice_calories = float(rice) * 1.3\n",
    "lentils = input(\"How much did the child eat lentils? (in grams) \")\n",
    "lenticles_calories = float(lentils) * 1.13\n",
    "vegetable = input(\"How much did the child eat vegetables? (in grams) \")\n",
    "vegetable_calories = float(vegetable) * 0.85\n",
    "meat = input(\"How much did the child eat meat? (in grams) \")\n",
    "meat_calories = float(meat) * 1.43\n",
    "\n",
    "#nutrition calculation\n",
    "\n",
    "total_calorie = milk_calories + egg_calories + rice_calories + lenticles_calories + vegetable_calories + meat_calories\n",
    "\n",
    "if(age>0 and age<2 and total_calorie<800):\n",
    "    print(\"The daily calorie consumption of\",name,\"is\",total_calorie, \"and he(she) is undernourished.\")\n",
    "elif(age<2 and total_calorie>=800):\n",
    "    print(\"The daily calorie consumption of\",name,\"is\",total_calorie, \"and he(she) is not undernourished.\")\n",
    "elif(age>=2 and age<4 and total_calorie<1400):\n",
    "    print(\"The daily calorie consumption of\",name,\"is\",total_calorie, \"and he(she) is undernourished.\")\n",
    "elif(age>=2 and age<4 and total_calorie>=1400):\n",
    "    print(\"The daily calorie consumption of\",name,\"is\",total_calorie, \"and he(she) is not undernourished.\")\n",
    "elif(age>=4 and age<8 and total_calorie<1800):\n",
    "    print(\"The daily calorie consumption of\",name,\"is\",total_calorie, \"and he(she) is undernourished.\")\n",
    "elif(age>=4 and age<8 and total_calorie>=1800):\n",
    "    print(\"The daily calorie consumption of\",name,\"is\",total_calorie, \"and\",name,\"is not undernourished.\")\n",
    "    \n",
    "#bmi calculation\n",
    "\n",
    "bmi_child = round(weight/(height**2)*703,2)\n",
    "\n",
    "if(bmi_child < 16):\n",
    "    print(\"The BMI of\",name,\"is\",bmi_child, \"and\",name,\"is severely underweight.\")\n",
    "elif(bmi_child>=16 and bmi_child<=18.5):\n",
    "    print(\"The BMI of\",name,\"is\",bmi_child, \"and\",name,\"is underweight.\")\n",
    "elif(bmi_child>=18.5 and bmi_child<=25):\n",
    "    print(\"The BMI of\",name,\"is\",bmi_child, \"and\",name,\"is normal.\")\n",
    "elif(bmi_child>=25 and bmi_child<=30):\n",
    "    print(\"The BMI of\",name,\"is\",bmi_child, \"and\",name,\"is overweight.\")\n",
    "elif(bmi_child>=30):\n",
    "    print(\"The BMI of\",name,\"is\",bmi_child, \"and\",name,\"is obese.\")\n",
    "else:\n",
    "    print(\"Error\")"
   ]
  },
  {
   "cell_type": "code",
   "execution_count": null,
   "id": "8456b954",
   "metadata": {},
   "outputs": [],
   "source": []
  },
  {
   "cell_type": "code",
   "execution_count": null,
   "id": "8344adf5",
   "metadata": {},
   "outputs": [],
   "source": []
  }
 ],
 "metadata": {
  "kernelspec": {
   "display_name": "Python 3 (ipykernel)",
   "language": "python",
   "name": "python3"
  },
  "language_info": {
   "codemirror_mode": {
    "name": "ipython",
    "version": 3
   },
   "file_extension": ".py",
   "mimetype": "text/x-python",
   "name": "python",
   "nbconvert_exporter": "python",
   "pygments_lexer": "ipython3",
   "version": "3.9.7"
  }
 },
 "nbformat": 4,
 "nbformat_minor": 5
}
