{
 "cells": [
  {
   "cell_type": "markdown",
   "id": "f0623bec",
   "metadata": {},
   "source": [
    "# Child Nutrient Calculator\n",
    "\n",
    "- project given by UPGRAD\n",
    "- author  :-  Aryaroop Majumder\n",
    "\n",
    "## Features\n",
    "\n",
    "- First part contains the Nutrition Calculator\n",
    "- Second part contains the BMI calculator\n",
    "\n",
    "## The normal calories one should take in the following age groups:- \n",
    "\n",
    ">  The following age groups are:-- \n",
    "\n",
    ">     Age b/w 0-2 years: 800 calories\n",
    ">     Age b/w 2-4 years: 1400 calories\n",
    ">     Age b/w 4-8 years: 1800 calories\n",
    "\n",
    " \n",
    "\n",
    "\n",
    "## How the calculation of BMI are done\n",
    "\n",
    "\n",
    "| BMI | BMI categories |\n",
    "| ------ | ------ |\n",
    "| <16 | Severely Underweight |\n",
    "| >=16 and <=18.5 | Underweight |\n",
    "| >=18.5 and <25 | Healthy |\n",
    "| >=25 and <30 | Overweight |\n",
    "| >30 | Severely Overweight |\n",
    "\n",
    "\n"
   ]
  },
  {
   "cell_type": "code",
   "execution_count": 1,
   "id": "1b655c3d",
   "metadata": {},
   "outputs": [
    {
     "name": "stdout",
     "output_type": "stream",
     "text": [
      "Age b/w 0-2 years: 800 calories\n",
      "Age b/w 2-4 years: 1400 calories\n",
      "Age b/w 4-8 years: 1800 calories\n",
      "Total calories: 1232.59\n",
      "Severly Underweight\n"
     ]
    }
   ],
   "source": [
    "name = input(\"Whats your name? \")\n",
    "age = int(input(\"How old are you? \"))\n",
    "gender = input(\"Whats your gender \")\n",
    "height = float(input(\"What's your height {in inches}\"))\n",
    "weight = float(input(\"What's yor weight {in pounds}\"))\n",
    "print(\"Age b/w 0-2 years: 800 calories\")\n",
    "print(\"Age b/w 2-4 years: 1400 calories\")\n",
    "print(\"Age b/w 4-8 years: 1800 calories\")\n",
    "milk = input(\"How much did the child drink milk? (in grams) \")\n",
    "milk_calories = float(milk) * 1\n",
    "egg = input(\"How much did the child eat eggs? (in grams) \")\n",
    "egg_calories = float(egg) * 1.55\n",
    "rice = input(\"How much did the child eat rice? (in grams) \")\n",
    "rice_calories = float(rice) * 1.3\n",
    "lentils = input(\"How much did the child eat lentils? (in grams) \")\n",
    "lenticles_calories = float(lentils) * 1.13\n",
    "vegetable = input(\"How much did the child eat vegetables? (in grams) \")\n",
    "vegetable_calories = float(vegetable) * 0.85\n",
    "meat = input(\"How much did the child eat meat? (in grams) \")\n",
    "meat_calories = float(meat) * 1.43\n",
    "total_calorie = milk_calories + egg_calories + rice_calories + lenticles_calories + vegetable_calories + meat_calories\n",
    "print(\"Total calories: \" + str(total_calorie))\n",
    "bmi_child = weight/(height**2)*703\n",
    "\n",
    "if(bmi_child < 16):\n",
    "    print(\"Severly Underweight\")\n",
    "elif(bmi_child>=16 and bmi_child<=18.5):\n",
    "    print(\"Underweight\")\n",
    "elif(bmi_child>=18.5 and bmi_child<=25):\n",
    "    print(\"Healthy\")\n",
    "elif(bmi_child>=25 and bmi_child<=30):\n",
    "    print(\"Overweight\")\n",
    "elif(bmi_child>=30):\n",
    "    print(\"Obese\")\n",
    "else:\n",
    "    print(\"Error\")"
   ]
  }
 ],
 "metadata": {
  "kernelspec": {
   "display_name": "Python 3 (ipykernel)",
   "language": "python",
   "name": "python3"
  },
  "language_info": {
   "codemirror_mode": {
    "name": "ipython",
    "version": 3
   },
   "file_extension": ".py",
   "mimetype": "text/x-python",
   "name": "python",
   "nbconvert_exporter": "python",
   "pygments_lexer": "ipython3",
   "version": "3.10.1"
  }
 },
 "nbformat": 4,
 "nbformat_minor": 5
}
